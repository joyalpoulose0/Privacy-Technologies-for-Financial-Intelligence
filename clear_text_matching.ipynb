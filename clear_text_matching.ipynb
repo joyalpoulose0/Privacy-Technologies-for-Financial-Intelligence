{
  "nbformat": 4,
  "nbformat_minor": 0,
  "metadata": {
    "colab": {
      "provenance": [],
      "authorship_tag": "ABX9TyMVLuASxVzmKkE9sK//uUb1"
    },
    "kernelspec": {
      "name": "python3",
      "display_name": "Python 3"
    },
    "language_info": {
      "name": "python"
    }
  },
  "cells": [
    {
      "cell_type": "code",
      "execution_count": null,
      "metadata": {
        "colab": {
          "base_uri": "https://localhost:8080/"
        },
        "id": "VAzrwi5xDeBP",
        "outputId": "b14d594a-43b2-4095-f4f6-85dbbce954a9"
      },
      "outputs": [
        {
          "output_type": "stream",
          "name": "stdout",
          "text": [
            "Plain Text Matches:\n",
            "Person ID 3757234 has matched with suspect ID: 3757234\n"
          ]
        }
      ],
      "source": [
        "import pandas as pd\n",
        "import numpy as np\n",
        "from faker import Faker\n",
        "\n",
        "#Setup faker for data generation\n",
        "fake = Faker()\n",
        "\n",
        "#Function to create realistic customer data\n",
        "def create_person_data(num_people, shared_ids=[]):\n",
        "    data = []\n",
        "    for _ in range(num_people):\n",
        "        person_id = np.random.randint(1000000, 9999999)\n",
        "        if shared_ids:\n",
        "            person_id = shared_ids.pop(0)\n",
        "        person = {\n",
        "            \"Name\": fake.name(),\n",
        "            \"DOB\": fake.date_of_birth(minimum_age=16, maximum_age=120),\n",
        "            \"ID\": person_id,\n",
        "            \"Address\": fake.address(),\n",
        "            \"Country\": fake.country()\n",
        "        }\n",
        "        data.append(person)\n",
        "    return pd.DataFrame(data)\n",
        "\n",
        "#Function to create suspect data with some shared IDs\n",
        "def create_suspect_data(num_suspects, shared_ids):\n",
        "    data = []\n",
        "    #10% should having matching ID of suspects\n",
        "    num_shared = int(0.1 * num_suspects)\n",
        "    for i in range(num_suspects):\n",
        "        if i < num_shared:\n",
        "            person_id = shared_ids[i]\n",
        "        else:\n",
        "            person_id = np.random.randint(1000000, 9999999)\n",
        "        person = {\n",
        "            \"Name\": fake.name(),\n",
        "            \"DOB\": fake.date_of_birth(minimum_age=16, maximum_age=120),\n",
        "            \"ID\": person_id,\n",
        "            \"Address\": fake.address(),\n",
        "            \"Country\": fake.country()\n",
        "        }\n",
        "        data.append(person)\n",
        "    return pd.DataFrame(data)\n",
        "\n",
        "#Clear text matching function for individual\n",
        "def match_plain(tar, sus):\n",
        "    if tar == sus:\n",
        "        return f\"Person ID {tar} has matched with suspect ID: {sus}\"\n",
        "\n",
        "#Clear text matching for list\n",
        "def listmatch_plain(tar_list, sus_list):\n",
        "    matches = []\n",
        "    for tar in tar_list:\n",
        "        for sus in sus_list:\n",
        "            match_res = match_plain(tar, sus)\n",
        "            if match_res:\n",
        "                matches.append(match_res)\n",
        "    return matches\n",
        "\n",
        "#Generate sample data\n",
        "num_people = 100\n",
        "num_suspects = 10\n",
        "\n",
        "#Generate shared IDs to ensure 10% matches\n",
        "shared_ids = [np.random.randint(1000000, 9999999) for _ in range(int(0.1 * num_suspects))]\n",
        "\n",
        "#Create customer and suspect data with shared IDs\n",
        "customer_data = create_person_data(num_people, shared_ids.copy())\n",
        "suspect_data = create_suspect_data(num_suspects, shared_ids)\n",
        "\n",
        "#Convert data to lists for matching\n",
        "customer_ids = customer_data['ID'].to_list()\n",
        "suspect_ids = suspect_data['ID'].to_list()\n",
        "\n",
        "#Perform plain text matching\n",
        "plain_matches = listmatch_plain(customer_ids, suspect_ids)\n",
        "print(\"Plain Text Matches:\")\n",
        "for match in plain_matches:\n",
        "    print(match)\n"
      ]
    }
  ]
}